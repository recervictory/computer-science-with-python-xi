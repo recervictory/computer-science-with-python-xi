{
  "cells": [
    {
      "cell_type": "markdown",
      "metadata": {
        "id": "view-in-github",
        "colab_type": "text"
      },
      "source": [
        "<a href=\"https://colab.research.google.com/github/recervictory/computer-science-with-python-xi/blob/master/CH06_String_in_Python.ipynb\" target=\"_parent\"><img src=\"https://colab.research.google.com/assets/colab-badge.svg\" alt=\"Open In Colab\"/></a>"
      ]
    },
    {
      "cell_type": "markdown",
      "source": [
        "## 6.1 INTRODUCTION\n",
        "After going through Conditional Constructs in the previous chapter, we will now discuss Strings —an important sequence/collection provided by Python. Think about beads or anything you might string together. You place one bead at a time on to the string. Eventually, you end up with some type of ornamentation—perhaps a necklace or a tree garland. But the point is that these items are made up of individual beads. The same concept used for a necklace made up of beads holds true for strings in computer. When you see a sentence, you understand that it is made up of individual characters that are strung together by the programming language you use. The language creates a structure that holds individual characters together. So, the language, and not the computer, knows that so many alphabets or numbers in a row (each number being represented as a character) make a string or a sentence, In Python too, like in real life, we deal with strings.\n",
        "\n",
        "A program to display a “Hello message” to the user that combines with his/her name. Consider, the Python code for this:"
      ],
      "metadata": {
        "id": "tZz8Iz0Wf_tQ"
      }
    },
    {
      "cell_type": "code",
      "execution_count": null,
      "source": [
        "print(\"Enter your name: \")\n",
        "name = input()\n",
        "print(\"Hello \" + name + \"!\")"
      ],
      "outputs": [],
      "metadata": {
        "id": "KOXgkLZJf_tV"
      }
    },
    {
      "cell_type": "markdown",
      "source": [
        "## 6.3 CREATING STRINGS\n",
        "Strings are among the most popular data type In Python. We can create them by simply enclosing characters in quotes (single, double or triple). Python treats single quotes the same as double quotes. Sometimes, triple quotes can be used in Python but they are generally used to represent multiline strings and doc strings. An empty string is a string that has 0 character: Creating strings is as simple as assigning a value to a variable."
      ],
      "metadata": {
        "id": "dM9xAmAxf_tX"
      }
    },
    {
      "cell_type": "code",
      "execution_count": null,
      "source": [
        "str1 = \"Hello World!\"\n",
        "str2 = 'Python Programming'\n",
        "print(str1,str2)"
      ],
      "outputs": [],
      "metadata": {
        "id": "kyXUa8Jjf_tY"
      }
    },
    {
      "cell_type": "markdown",
      "source": [
        "Python does not support character type, these are treated as string of length one, also consider as a substring.\n",
        "For example, 'a','b','c'  are all string of length one.\n",
        "Double and single quotes are  part of python's keyword, so to insert any special characters like this will be we need to escape them (i.e with use `(\\)` in front of them.)"
      ],
      "metadata": {
        "id": "rhxS1PMSf_tY"
      }
    },
    {
      "cell_type": "code",
      "execution_count": null,
      "source": [
        "str1 = 'This is Sourav\\'s Notebook.'\n",
        "str1"
      ],
      "outputs": [],
      "metadata": {
        "id": "aqKi7t6Hf_tZ"
      }
    },
    {
      "cell_type": "markdown",
      "source": [
        "### Empty String\n",
        "An empty string is a string without any characters inside, having length zero."
      ],
      "metadata": {
        "id": "6OVM1IMif_ta"
      }
    },
    {
      "cell_type": "code",
      "execution_count": null,
      "source": [
        "empty = \"\"\n",
        "print(empty)"
      ],
      "outputs": [],
      "metadata": {
        "id": "ooxflUaCf_ta"
      }
    },
    {
      "cell_type": "markdown",
      "source": [
        "As is evident from the above example, string str **does not hold any value**, i.e, it is an empty\n",
        "string. Therefore, when we print an **empty string**, a blank space gets displayed in the next line.\n",
        "\n",
        "If a command is long, then it can be shifted to the next line by typing `(\\)`, but it shows the result in the same line."
      ],
      "metadata": {
        "id": "VjNcgojzf_tb"
      }
    },
    {
      "cell_type": "code",
      "execution_count": null,
      "source": [
        "str1 = \"This is the first line \\\n",
        "        Split in this postion.\"\n",
        "print(str1)"
      ],
      "outputs": [],
      "metadata": {
        "id": "krWjTYcJf_tb"
      }
    },
    {
      "cell_type": "markdown",
      "source": [
        "If you wish to display the output on the **next line**, then the use of escape sequence `(\\n)`\n",
        "becomes mandatory."
      ],
      "metadata": {
        "id": "Lo-NLxBXf_tc"
      }
    },
    {
      "cell_type": "code",
      "execution_count": null,
      "source": [
        "str1 = \"This is the first line \\n Split in this postion.\"\n",
        "print(str1)"
      ],
      "outputs": [],
      "metadata": {
        "id": "k3-n_VfGf_tc"
      }
    },
    {
      "cell_type": "markdown",
      "source": [
        "We can also use escape sequence `(\\t)` to tabulate the output."
      ],
      "metadata": {
        "id": "GrQLriE9f_td"
      }
    },
    {
      "cell_type": "code",
      "execution_count": null,
      "source": [
        "header =  \"RollNo\\t Name\\t Class\"\n",
        "students = \"123\\t Dev\\t XII\\n124\\t Riya\\t XII\"\n",
        "print(header)\n",
        "print(students)"
      ],
      "outputs": [],
      "metadata": {
        "id": "R4m5FNlLf_td"
      }
    },
    {
      "cell_type": "markdown",
      "source": [
        "### Multiline Strings\n",
        "Multiline strings are represented using triple quotes `(''')` or even single or double quotes."
      ],
      "metadata": {
        "id": "Sf9fssvef_td"
      }
    },
    {
      "cell_type": "markdown",
      "source": [
        "## 6.4 TRAVERSING A STRING\n",
        "Traversing a string means accessing all the elements of the string one after the other by using the subscript or index value. Each characterin a string is located in different slots (like Lockers).\n",
        "\n",
        "![Character Representation in string](img\\CH06F01.jpeg)\n",
        "\n",
        "Each characterin a string has an index value. Indexing starts at 0 and must be an integer.\n",
        "Individual elements/slots can be accessed by typing index value inside square [ ] brackets as\n",
        "shown in the output window given below."
      ],
      "metadata": {
        "id": "9v2VSGZ7f_td"
      }
    },
    {
      "cell_type": "code",
      "execution_count": null,
      "source": [
        "var = \"Hello World!\"\n",
        "print(var[0])\n",
        "print(var[1])\n",
        "print(var[11])\n",
        "print(var[-1])\n",
        "print(var[-10])\n",
        "print(var[-12])"
      ],
      "outputs": [],
      "metadata": {
        "id": "Z7IeXlTnf_te"
      }
    },
    {
      "cell_type": "markdown",
      "source": [
        "We can’t use float or other types for index as this will result in TypeError. Trying to access a\n",
        "character out of index range will raise an IndexError.\n",
        "We can start index value either from the left or from the right. Left index starts from 0 and\n",
        "right-side index starts from -1."
      ],
      "metadata": {
        "id": "b7IZeSKQf_te"
      }
    },
    {
      "cell_type": "markdown",
      "source": [
        "![Python String](img\\CH06F02.jpeg)"
      ],
      "metadata": {
        "id": "i9impHEVf_te"
      }
    },
    {
      "cell_type": "markdown",
      "source": [
        "### Iterating through string using `for loop`\n",
        "Each character of the string can be accessed sequentially using for loop. This is done using\n",
        "the indexes, and iterating over it results in displaying the elements of a string, one character at a time."
      ],
      "metadata": {
        "id": "K0K89ZzLf_tf"
      }
    },
    {
      "cell_type": "code",
      "execution_count": null,
      "source": [
        "string = \"Computer Science with Python\"\n",
        "for ch in string:\n",
        "    print(ch, end = \" \")"
      ],
      "outputs": [],
      "metadata": {
        "id": "LnRHpk9df_tf"
      }
    },
    {
      "cell_type": "markdown",
      "source": [
        "In the above code, the loop starts from the first character of the string `string` and automatically ends when the last character is accessed.\n"
      ],
      "metadata": {
        "id": "ZF8oarp-f_tf"
      }
    },
    {
      "cell_type": "markdown",
      "source": [
        "### b) Iterating through string (String Traversal) using while loop\n",
        "Like for, `while` loop can also be used for string traversal. Each elementof the string is accessed\n",
        "one by one and `while` loop iterates till the end of the inputted string, which can be determined\n",
        "using standard library function, `len()` function."
      ],
      "metadata": {
        "id": "1q4IgRTsf_tf"
      }
    },
    {
      "cell_type": "code",
      "execution_count": null,
      "source": [
        "# String traversing using while loop\n",
        "str1 = \"Python Programming\"\n",
        "index = 0\n",
        "while index < len(str1):\n",
        "    print(str1[index],end=\" \")\n",
        "    index += 1"
      ],
      "outputs": [],
      "metadata": {
        "id": "2vcGdFUef_tg"
      }
    },
    {
      "cell_type": "markdown",
      "source": [
        "Here `while` loop runs till the condition index < len(str) is True, where index varies from 0 to len(str1)-1."
      ],
      "metadata": {
        "id": "HigZNln4f_tg"
      }
    },
    {
      "cell_type": "markdown",
      "source": [
        "### Implementation: Write a program that takes string and one character as a input and find the number of characters present in the string."
      ],
      "metadata": {
        "id": "lcOYT16Of_tg"
      }
    },
    {
      "cell_type": "code",
      "execution_count": null,
      "source": [
        "# Your Code should be here."
      ],
      "outputs": [],
      "metadata": {
        "id": "zVROJhC-f_tg"
      }
    },
    {
      "cell_type": "markdown",
      "source": [
        "### Write a program to input a string from the user and print it in the reverse order without creating a new string."
      ],
      "metadata": {
        "id": "KemQueFff_th"
      }
    },
    {
      "cell_type": "code",
      "execution_count": null,
      "source": [
        "# Your Code should be here."
      ],
      "outputs": [],
      "metadata": {
        "id": "CAgPnoogf_th"
      }
    },
    {
      "cell_type": "markdown",
      "source": [
        "## 6.5 SPECIAL STRING OPERATORS\n",
        "String can be manipulated using operators like concatenate `(+)`, repetition `(*)` and membership operator like `in` and `not in`.\n",
        "\n",
        "![SPECIAL STRING OPERATORS](img\\CH06F03.jpeg)"
      ],
      "metadata": {
        "id": "3entV8Pmf_th"
      }
    },
    {
      "cell_type": "markdown",
      "source": [
        "### 6.5.1 Concatenating Strings\n",
        "Concatenation refers to creating a new string by adding two strings. The `+` operator joins Of concatenates strings written on both sides of the operator and creates a new string."
      ],
      "metadata": {
        "id": "8-J60ftPf_th"
      }
    },
    {
      "cell_type": "code",
      "execution_count": null,
      "source": [
        "\"Hello \" + \"World!\""
      ],
      "outputs": [],
      "metadata": {
        "id": "GJr_aeJ5f_th"
      }
    },
    {
      "cell_type": "code",
      "execution_count": null,
      "source": [
        "name = input(\"Enter your name: \")\n",
        "\"Hello \" + name"
      ],
      "outputs": [],
      "metadata": {
        "id": "9ZC314Hhf_th"
      }
    },
    {
      "cell_type": "code",
      "execution_count": null,
      "source": [
        "6\n",
        "print(\"6\" + \"4\")    # + operator concatanate two string\n",
        "print(6 + 4)        # + operator add to integer"
      ],
      "outputs": [],
      "metadata": {
        "id": "x_7vbmrCf_th"
      }
    },
    {
      "cell_type": "code",
      "execution_count": null,
      "source": [
        "6 + \"4\" # Rise Error"
      ],
      "outputs": [],
      "metadata": {
        "id": "tYMvGgSof_th"
      }
    },
    {
      "cell_type": "markdown",
      "source": [
        "### 6.5.2 Replicating Strings\n",
        "The `*` operator creates a new string by repeating multiple copies of the same string."
      ],
      "metadata": {
        "id": "eTNtTqZPf_ti"
      }
    },
    {
      "cell_type": "code",
      "execution_count": null,
      "source": [
        "3 * \"Python \""
      ],
      "outputs": [],
      "metadata": {
        "id": "WrN-zfW4f_ti"
      }
    },
    {
      "cell_type": "code",
      "execution_count": null,
      "source": [
        "'1' + '0' * 10"
      ],
      "outputs": [],
      "metadata": {
        "id": "tz8QIgY3f_ti"
      }
    },
    {
      "cell_type": "markdown",
      "source": [
        "For replication operator `*`, Python creates a new string that is a number of repetitions of the input string.\n",
        "#### The `*` operator has to either have both operands of the number types (for performing multiplication) or one string type and one number type (for replication). It cannot work with both operands of string types."
      ],
      "metadata": {
        "id": "bFqCYPMxf_ti"
      }
    },
    {
      "cell_type": "code",
      "execution_count": null,
      "source": [
        "'3' * '4' # Rise Type Error"
      ],
      "outputs": [],
      "metadata": {
        "id": "EB1tvnXrf_ti"
      }
    },
    {
      "cell_type": "markdown",
      "source": [
        "The last statement shall result in an error because strings can’t be multiplied; one operand has\n",
        "to be an integer value"
      ],
      "metadata": {
        "id": "CZ-LdMLjf_ti"
      }
    },
    {
      "cell_type": "markdown",
      "source": [
        "### 6.5.3 Membership Operators\n",
        "Python offers two membership operators for checking whether a particular character exists in the given string or not. These operators are 'in' and 'not in'.\n",
        "\n",
        "- **`in` operator**: It returns true if a character/substring exists in the given string. \n",
        "- **`not in` operator**: It returns true if a character/substring does not exist in the given string.\n",
        "\n",
        "To use membership operator in strings, it is required that both the operands used should be of string type, i.e.,\n",
        "```{python}\n",
        "<substring> in <string>\n",
        "<substring> not in <string>\n",
        "```"
      ],
      "metadata": {
        "id": "dJQZ7sQhf_ti"
      }
    },
    {
      "cell_type": "code",
      "execution_count": null,
      "source": [
        "'H' in 'Hello'"
      ],
      "outputs": [],
      "metadata": {
        "id": "f-_cGe3bf_tj"
      }
    },
    {
      "cell_type": "code",
      "execution_count": null,
      "source": [
        "'h' in 'Hello'"
      ],
      "outputs": [],
      "metadata": {
        "id": "rlmiYMbTf_tj"
      }
    },
    {
      "cell_type": "code",
      "execution_count": null,
      "source": [
        "'Hell' in 'Hey, Hello, Kolkata'"
      ],
      "outputs": [],
      "metadata": {
        "id": "fmssH467f_tj"
      }
    },
    {
      "cell_type": "code",
      "execution_count": null,
      "source": [
        "str1 = \"Python programming Class\"\n",
        "\"Class\" in str1"
      ],
      "outputs": [],
      "metadata": {
        "id": "6IaXELo1f_tj"
      }
    },
    {
      "cell_type": "markdown",
      "source": [
        "### 6.5.4 Comparison Operators\n",
        "You can use relational/comparison operators (>, <, >=, <=, ==, !=) to compare two strings.\n",
        "Python compares strings using ASCII, rather UNICODE values of the characters. UNICODE values are called \"**Ordinal values**\".\n",
        "\n",
        "Python start by comparing the first element from each sequence (character-by-character\n",
        "comparison). If they are equal, it goes on to the next element, and so on, until it finds elements\n",
        "that differ. Subsequent elements are not considered (even if they are big)."
      ],
      "metadata": {
        "id": "8opSe13Of_tj"
      }
    },
    {
      "cell_type": "code",
      "execution_count": null,
      "source": [
        "\"A\" == \"A\""
      ],
      "outputs": [],
      "metadata": {
        "id": "EQWrsF4df_tj"
      }
    },
    {
      "cell_type": "code",
      "execution_count": null,
      "source": [
        "\"A\" > \"B\""
      ],
      "outputs": [],
      "metadata": {
        "id": "gbXLOY6Df_tj"
      }
    },
    {
      "cell_type": "code",
      "execution_count": null,
      "source": [
        "\"AA\" < \"AB\""
      ],
      "outputs": [],
      "metadata": {
        "id": "Vqb0iO4mf_tj"
      }
    },
    {
      "cell_type": "markdown",
      "source": [
        "In all the above examples, Python compares using values (called **Ordinal Values**). For most\n",
        "common characters, the ASCII and Unicode values are same. The table below gives the most\n",
        "common characters and their ordinal values:\n",
        "\n",
        "![SPECIAL STRING OPERATORS](img\\CH06F04.jpeg)"
      ],
      "metadata": {
        "id": "vebFj5M_f_tk"
      }
    },
    {
      "cell_type": "code",
      "execution_count": null,
      "source": [
        "# Python Function to find Oridinal Value\n",
        "ord(\"A\"), ord(\"B\"), ord(\"a\"), ord(\"b\"), ord(\"0\"),ord(\"9\")"
      ],
      "outputs": [],
      "metadata": {
        "id": "6SJtLALif_tk"
      }
    },
    {
      "cell_type": "markdown",
      "source": [
        "### 6.5.5 String Slicing\n",
        "Slicing is used to retrieve a subset of values. A slice of a string is nothing but a substring. This\n",
        "ektracted substring is termed as slice, Chunk of characters can be extracted from a string using\n",
        "Slice operator with two indices in square brackets separated by colon (`[:]`). \n",
        "#### The syntax is:\n",
        "```{python}\n",
        "String Variable [start, end, step]\n",
        "```"
      ],
      "metadata": {
        "id": "lo3ZLJxEf_tk"
      }
    },
    {
      "cell_type": "markdown",
      "source": [
        "![SPECIAL STRING OPERATORS](img\\CH06F05.jpeg)"
      ],
      "metadata": {
        "id": "IXHCTWQUf_tk"
      }
    },
    {
      "cell_type": "code",
      "execution_count": null,
      "source": [
        "alphabetString = \"ABCDEFGHIJKLMNOPQRSTUVWXYZ\"\n",
        "alphabetString"
      ],
      "outputs": [],
      "metadata": {
        "id": "M9UwRf99f_tk"
      }
    },
    {
      "cell_type": "code",
      "execution_count": null,
      "source": [
        "alphabetString[0:5]"
      ],
      "outputs": [],
      "metadata": {
        "id": "r63hsIPbf_tk"
      }
    },
    {
      "cell_type": "code",
      "execution_count": null,
      "source": [
        "alphabetString[5:10]"
      ],
      "outputs": [],
      "metadata": {
        "id": "zshG3Eeof_tk"
      }
    },
    {
      "cell_type": "code",
      "execution_count": null,
      "source": [
        "alphabetString[:10]"
      ],
      "outputs": [],
      "metadata": {
        "id": "dvPlGRZVf_tk"
      }
    },
    {
      "cell_type": "code",
      "execution_count": null,
      "source": [
        "alphabetString[10:]"
      ],
      "outputs": [],
      "metadata": {
        "id": "kEBIym0Xf_tk"
      }
    },
    {
      "cell_type": "code",
      "execution_count": null,
      "source": [
        "alphabetString[5:25:2]"
      ],
      "outputs": [],
      "metadata": {
        "id": "iVkMmKZmf_tl"
      }
    },
    {
      "cell_type": "code",
      "execution_count": null,
      "source": [
        "alphabetString[::2]"
      ],
      "outputs": [],
      "metadata": {
        "id": "5HOpc6fJf_tl"
      }
    },
    {
      "cell_type": "code",
      "execution_count": null,
      "source": [
        "alphabetString[::-1]"
      ],
      "outputs": [],
      "metadata": {
        "id": "v4O1FGOEf_tl"
      }
    },
    {
      "cell_type": "markdown",
      "source": [
        "## 6.6 STRINGS ARE IMMUTABLE\n",
        "Strings are **immutable** means that the content of the string cannot be changed after it js\n",
        "created. Let us understand the concept of immutability with the help of an example.\n",
        "```{python}\n",
        "str1 = \"hello world\"\n",
        "str1[0] = 'H'\n",
        "\n",
        "```\n",
        "\n",
        "TypeError: 'str1' object does not support item assignment. Python does not allow the\n",
        "programmer to change a character in a string. As shown in the above example, strl has the\n",
        "value ‘Student’. An attempt to replace ‘din the string by ‘p’ displays a TypeError."
      ],
      "metadata": {
        "id": "6Ze_UBy0f_tl"
      }
    },
    {
      "cell_type": "code",
      "execution_count": null,
      "source": [
        "str1 = \"hello world\"\n",
        "str1[0] = 'H'"
      ],
      "outputs": [],
      "metadata": {
        "id": "IZWm8bIrf_tl"
      }
    },
    {
      "cell_type": "markdown",
      "source": [
        "## 6.7 STRING METHODS AND BUILT-IN FUNCTIONS\n",
        "Python provides several built-in functions associated with the strings. These functions allow\n",
        "us to easily modify and manipulate strings. We can think of functions as being actions that\n",
        "we perform on elements of a string in our code. Built-in functions are pre-defined in Python\n",
        "programming language and are readily available for use.\n",
        "\n",
        "1. `len()`          — This method returns the length of the string.\n",
        "2. `capitalize()`   — This method returns the exact copy of the string with the first letter in **uppercase**.\n",
        "3. `split()`        — The split() method breaks up a string at the specified separator and returns a list of substrings.\n",
        "4. `replace()`        — This function replaces all the occurrences of the old string with the new string\n"
      ],
      "metadata": {
        "id": "ux7FVTjtf_tl"
      }
    },
    {
      "cell_type": "code",
      "execution_count": null,
      "source": [
        "str1 = input(\"Enter the string\")\n",
        "len(str1) #function"
      ],
      "outputs": [
        {
          "output_type": "execute_result",
          "data": {
            "text/plain": [
              "28"
            ]
          },
          "metadata": {},
          "execution_count": 2
        }
      ],
      "metadata": {
        "id": "fZoU2Isif_tl",
        "outputId": "d2e55141-2642-4e48-fdb3-34ce55569153"
      }
    },
    {
      "cell_type": "code",
      "execution_count": null,
      "source": [
        "str1 = \"cc Conditional.this and Looping Constuct \"\n",
        "str1.capitalize()"
      ],
      "outputs": [
        {
          "output_type": "execute_result",
          "data": {
            "text/plain": [
              "'Cc conditional.this and looping constuct '"
            ]
          },
          "metadata": {},
          "execution_count": 10
        }
      ],
      "metadata": {
        "id": "s9EYOiXff_tm",
        "outputId": "407e715f-d375-4bc5-de97-f03f12e6da93"
      }
    },
    {
      "cell_type": "code",
      "execution_count": null,
      "source": [
        "str1.upper() # Uppercase string"
      ],
      "outputs": [
        {
          "output_type": "execute_result",
          "data": {
            "text/plain": [
              "'CC CONDITIONAL. THIS AND LOOPING CONSTUCT '"
            ]
          },
          "metadata": {},
          "execution_count": 7
        }
      ],
      "metadata": {
        "id": "jdBNTLBPf_tm",
        "outputId": "855c706c-e025-433d-a13d-0a43a0017c04"
      }
    },
    {
      "cell_type": "code",
      "execution_count": null,
      "source": [
        "str1.lower()"
      ],
      "outputs": [
        {
          "output_type": "execute_result",
          "data": {
            "text/plain": [
              "'cc conditional. this and looping constuct '"
            ]
          },
          "metadata": {},
          "execution_count": 8
        }
      ],
      "metadata": {
        "id": "gzNv59Xqf_tm",
        "outputId": "97665fcf-85c1-4013-ff8f-c09e6261fb9f"
      }
    },
    {
      "cell_type": "code",
      "execution_count": null,
      "source": [
        "str1.title()"
      ],
      "outputs": [
        {
          "output_type": "execute_result",
          "data": {
            "text/plain": [
              "'Cc Conditional.This And Looping Constuct '"
            ]
          },
          "metadata": {},
          "execution_count": 11
        }
      ],
      "metadata": {
        "id": "wajESCa8f_tn",
        "outputId": "bd0d58e9-4b8a-4650-9b9b-9d36846462b9"
      }
    },
    {
      "cell_type": "code",
      "execution_count": null,
      "source": [
        "str1.split(\" \",2)"
      ],
      "outputs": [
        {
          "output_type": "execute_result",
          "data": {
            "text/plain": [
              "list"
            ]
          },
          "metadata": {},
          "execution_count": 19
        }
      ],
      "metadata": {
        "id": "oZu44AR8f_tn",
        "outputId": "1ecf8069-5002-4bce-a8cc-cc5f99138f14"
      }
    },
    {
      "cell_type": "code",
      "execution_count": null,
      "source": [
        "alph = 'kolkata63'\n",
        "#print(alph.isalpha())\n",
        "print(alph.isalnum())"
      ],
      "outputs": [
        {
          "output_type": "stream",
          "name": "stdout",
          "text": [
            "True\n"
          ]
        }
      ],
      "metadata": {
        "id": "OFHE3n2Ef_tn",
        "outputId": "fe2fde5d-7853-4a84-aeba-900af7e92936"
      }
    },
    {
      "cell_type": "code",
      "execution_count": null,
      "source": [
        "dig = '7'\n",
        "dig.isdigit()"
      ],
      "outputs": [
        {
          "output_type": "execute_result",
          "data": {
            "text/plain": [
              "True"
            ]
          },
          "metadata": {},
          "execution_count": 23
        }
      ],
      "metadata": {
        "id": "KEsLcOUDf_tn",
        "outputId": "1bb37d0d-9b52-4fbc-e508-a45b6dc28e58"
      }
    },
    {
      "cell_type": "code",
      "execution_count": null,
      "source": [
        "'9'.isspace()"
      ],
      "outputs": [
        {
          "output_type": "execute_result",
          "data": {
            "text/plain": [
              "False"
            ]
          },
          "metadata": {},
          "execution_count": 27
        }
      ],
      "metadata": {
        "id": "uXsrL2iff_tn",
        "outputId": "11536a74-715e-415b-be9e-89f4bef91bd3"
      }
    },
    {
      "cell_type": "code",
      "execution_count": null,
      "source": [
        "str1 = \"this is this function on this code block is his this\"\n",
        "str1.count(\"his\",15,25)"
      ],
      "outputs": [
        {
          "output_type": "execute_result",
          "data": {
            "text/plain": [
              "0"
            ]
          },
          "metadata": {},
          "execution_count": 33
        }
      ],
      "metadata": {
        "id": "1HO4TvQzf_tn",
        "outputId": "bd73e3c2-2382-4054-eb89-57f6ad03f641"
      }
    },
    {
      "cell_type": "code",
      "execution_count": null,
      "source": [
        "'TT'.islower()"
      ],
      "outputs": [
        {
          "output_type": "execute_result",
          "data": {
            "text/plain": [
              "False"
            ]
          },
          "metadata": {},
          "execution_count": 35
        }
      ],
      "metadata": {
        "id": "p4ejDYH2f_to",
        "outputId": "569141a9-fc42-494e-db55-dec87ada0c88"
      }
    },
    {
      "cell_type": "code",
      "execution_count": null,
      "source": [
        "text = \" Kolkata is city of joy.           \"\n",
        "text"
      ],
      "outputs": [
        {
          "output_type": "execute_result",
          "data": {
            "text/plain": [
              "' Kolkata is city of joy.           '"
            ]
          },
          "metadata": {},
          "execution_count": 40
        }
      ],
      "metadata": {
        "id": "fUIgOdczf_to",
        "outputId": "103daace-5ce9-4c88-b451-fb0798b1b6e7"
      }
    },
    {
      "cell_type": "code",
      "execution_count": null,
      "source": [
        "text.strip()"
      ],
      "outputs": [
        {
          "output_type": "execute_result",
          "data": {
            "text/plain": [
              "'Kolkata is city of joy'"
            ]
          },
          "metadata": {},
          "execution_count": 37
        }
      ],
      "metadata": {
        "id": "RO4TvlNpf_to",
        "outputId": "69633c33-5fdd-4414-b758-a423741c1673"
      }
    },
    {
      "cell_type": "code",
      "execution_count": null,
      "source": [
        "dot = text.rstrip()\n",
        "dot.strip(\".\")"
      ],
      "outputs": [
        {
          "output_type": "execute_result",
          "data": {
            "text/plain": [
              "' Kolkata is city of joy'"
            ]
          },
          "metadata": {},
          "execution_count": 42
        }
      ],
      "metadata": {
        "id": "eIa41yIJf_to",
        "outputId": "971fc173-9c0e-4d87-915d-231ed16b1287"
      }
    },
    {
      "cell_type": "code",
      "execution_count": null,
      "source": [
        "ch = \"*\"\n",
        "text = \"Kolkata is.city of joy\"\n",
        "ch.join(text)"
      ],
      "outputs": [
        {
          "output_type": "execute_result",
          "data": {
            "text/plain": [
              "'K*o*l*k*a*t*a* *i*s*.*c*i*t*y* *o*f* *j*o*y'"
            ]
          },
          "metadata": {},
          "execution_count": 50
        }
      ],
      "metadata": {
        "id": "w0h-coqMf_to",
        "outputId": "dc1e0d77-b18e-4289-873b-89bd0071a720"
      }
    },
    {
      "cell_type": "code",
      "execution_count": null,
      "source": [
        "text = \"Kolkata is.city of joy\"\n",
        "lst = text.split(\".\")\n",
        "#print(lst)\n",
        "\".\".join(lst)"
      ],
      "outputs": [
        {
          "output_type": "execute_result",
          "data": {
            "text/plain": [
              "'Kolkata is.city of joy'"
            ]
          },
          "metadata": {},
          "execution_count": 55
        }
      ],
      "metadata": {
        "id": "oY8JhbCuf_to",
        "outputId": "9e565ead-f873-4dcc-dc42-cbf19b5afe53"
      }
    },
    {
      "cell_type": "code",
      "execution_count": null,
      "source": [
        "text.swapcase()"
      ],
      "outputs": [
        {
          "output_type": "execute_result",
          "data": {
            "text/plain": [
              "'kOLKATA IS.CITY OF JOY'"
            ]
          },
          "metadata": {},
          "execution_count": 56
        }
      ],
      "metadata": {
        "id": "Awsr6cBhf_tp",
        "outputId": "2b4338dc-0203-453f-b268-e39ace74d411"
      }
    },
    {
      "cell_type": "code",
      "execution_count": null,
      "source": [
        "email = \"mymail@gamil.com\"\n",
        "email.partition(\".\")"
      ],
      "outputs": [
        {
          "output_type": "execute_result",
          "data": {
            "text/plain": [
              "('mymail@gamil', '.', 'com')"
            ]
          },
          "metadata": {},
          "execution_count": 61
        }
      ],
      "metadata": {
        "id": "9_rx_lcnf_tp",
        "outputId": "c8f8ff20-91a4-45db-e484-642c89e0bb15"
      }
    },
    {
      "cell_type": "code",
      "execution_count": null,
      "source": [
        "email.split(\".\")"
      ],
      "outputs": [
        {
          "output_type": "execute_result",
          "data": {
            "text/plain": [
              "['mymail@gamil', 'com']"
            ]
          },
          "metadata": {},
          "execution_count": 62
        }
      ],
      "metadata": {
        "id": "d_Nrlqfbf_tp",
        "outputId": "d3fe6f55-2044-4581-883f-afcddfa2f4a9"
      }
    },
    {
      "cell_type": "code",
      "execution_count": null,
      "source": [
        "chr(65)"
      ],
      "outputs": [
        {
          "output_type": "execute_result",
          "data": {
            "text/plain": [
              "'A'"
            ]
          },
          "metadata": {},
          "execution_count": 63
        }
      ],
      "metadata": {
        "id": "GtU78AODf_tp",
        "outputId": "969b778e-db89-43e8-8ae2-be975654f99f"
      }
    },
    {
      "cell_type": "code",
      "execution_count": null,
      "source": [
        "ord('A')"
      ],
      "outputs": [
        {
          "output_type": "execute_result",
          "data": {
            "text/plain": [
              "65"
            ]
          },
          "metadata": {},
          "execution_count": 64
        }
      ],
      "metadata": {
        "id": "uHQJViMmf_tp",
        "outputId": "44616127-f811-41e5-f871-83decc4e1071"
      }
    },
    {
      "cell_type": "code",
      "execution_count": null,
      "source": [
        "x = \"tHE kolkata city kolkta\"\n",
        "x.find('k',8)"
      ],
      "outputs": [
        {
          "output_type": "execute_result",
          "data": {
            "text/plain": [
              "17"
            ]
          },
          "metadata": {},
          "execution_count": 75
        }
      ],
      "metadata": {
        "id": "k3IJRxRNf_tp",
        "outputId": "33875d49-f779-4086-e063-7c2a111fd50b"
      }
    },
    {
      "cell_type": "code",
      "execution_count": null,
      "source": [
        ""
      ],
      "outputs": [],
      "metadata": {
        "id": "2QI0DCS7f_tp"
      }
    }
  ],
  "metadata": {
    "orig_nbformat": 4,
    "language_info": {
      "name": "python",
      "version": "3.8.8",
      "mimetype": "text/x-python",
      "codemirror_mode": {
        "name": "ipython",
        "version": 3
      },
      "pygments_lexer": "ipython3",
      "nbconvert_exporter": "python",
      "file_extension": ".py"
    },
    "kernelspec": {
      "name": "python3",
      "display_name": "Python 3.8.8 64-bit ('base': conda)"
    },
    "interpreter": {
      "hash": "7dae6437c12b1d87f00e0e10a4bd22be66a3b8ec05fb1161d95372f28c39fa9e"
    },
    "colab": {
      "name": "CH06 - String in Python.ipynb",
      "provenance": [],
      "include_colab_link": true
    }
  },
  "nbformat": 4,
  "nbformat_minor": 0
}