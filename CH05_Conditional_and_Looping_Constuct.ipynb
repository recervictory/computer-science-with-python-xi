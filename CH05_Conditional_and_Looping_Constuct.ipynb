{
  "cells": [
    {
      "cell_type": "markdown",
      "metadata": {
        "id": "view-in-github",
        "colab_type": "text"
      },
      "source": [
        "<a href=\"https://colab.research.google.com/github/recervictory/computer-science-with-python-xi/blob/master/CH05_Conditional_and_Looping_Constuct.ipynb\" target=\"_parent\"><img src=\"https://colab.research.google.com/assets/colab-badge.svg\" alt=\"Open In Colab\"/></a>"
      ]
    },
    {
      "cell_type": "markdown",
      "source": [
        "# Chapter 5: Conditional and Looping Construct"
      ],
      "metadata": {
        "id": "uzQ7WAdIftoW"
      }
    },
    {
      "cell_type": "markdown",
      "source": [
        "## 5.1 INTRODUCTION\n",
        "In the previous chapters, we have learnt the basics of Python programming where we were dealing with simple short programs containing a sequence of instructions given for carrying out a particular task. They were all in a sequence, i.e., one after the other. In real life also, this sequence of operations is observed when a school bus carries schoolchildren from school to home and vice versa as shown in Fig. 5.1.\n",
        "\n",
        "\n",
        "<img src= \"https://github.com/Etucator/cs_python_class_11/blob/main/img/CH05F01.jpeg\" height = \"300px\"></img>\n",
        "\n",
        "There is only one way-the driver has no choice but to follow the road from one bus stop to another and reach home/school following a sequence.\n",
        "\n",
        " The Arithmetic Logic Unit involves all mathematical operations and conversions. We will now focus on Logic Unit which makes a computer think; so we need to write the code. In real-life scenarios also, we often go with the flow and tend to take decisions, such as after completing the 10th standard, we decide which stream to go for and after. completing graduation, one has to decide which company to join. Similarly, if you have ever used Google Maps direction services to reach from one place to : another, you might have noticed that sometimes it shows more than one path: the least crowded path, shortest distance path, etc. and you can decide which path to take as per your priorities. A decision may involve choosing one of the two or more possible options.\n",
        "\n",
        "<img src= \"https://github.com/Etucator/cs_python_class_11/blob/main/img/CH05F02.jpeg?raw=true\" height = \"300px\"></img>\n",
        "\n",
        "If it is raining, I will use an umbrella so that I don't get wet as shown in Fig. 5.2. This is a type of branching. If one condition is true, that is, if it is raining, I will take my umbrella. If the condition is not true but false, then I will not take my umbrella.\n",
        "\n",
        "Similarly, In Python also, we have a keyword 'if' which helps in taking decisions. In the above figure, we have used a tool for depicting this decision-making which is the flow chart. Therefore, before discussing conditional constructs offered by Python, we will learn about the most extensively-used logic development tool, which is a flow chart, that helps in better understanding the problem statement and decisions to be made accordingly. These are also sometimes termed as programming skill development techniques."
      ],
      "metadata": {
        "id": "VN7i4bOwftob"
      }
    },
    {
      "cell_type": "markdown",
      "source": [
        "## 5.2 INTRODUCTION TO PLANNING\n",
        "\n",
        "Whatever we wish to do, whether in real life or in coding, it requires planning. It is important to be able to plan code with the use of self-explanatory tools like flow charts. Even though you can code without a plan, it is not a good practice to start coding without a guide to follow.\n",
        "\n",
        "**A good plan:**\n",
        "- creates a guide you can follow.\n",
        "- helps you plan an efficient structure.\n",
        "- helps communicate to others what your code will do.\n",
        "\n",
        "A standard way to plan code is with flow charts."
      ],
      "metadata": {
        "id": "WBuS-LBaftoc"
      }
    },
    {
      "cell_type": "markdown",
      "source": [
        "### 5.2.1 Flow Charts\n",
        "Flow chart is the pictorial representation of a task. It is defined as a visual representation of the sequence of steps and decisions needed to perform a process/task. It is used to represent. how a program works. In other words, a flow chart depicts the \"flow\" of a program, L.e., the breakdown of a task into separate steps as shown in Fig. 5.3. It shows all the steps of a process. Being visual, it helps in understanding the logic of a task quickly.\n",
        "\n",
        "## Thus, lower charts are used in analyzing. designing. documenting or managing a process or program. Specific parts of the flow chart represent specific parts of your code.\n",
        "\n",
        "<img src= \"img/CH05F03.jpeg\" width = \"400px\"></img>\n",
        "\n",
        "## Lets us understand a flow chart through examples. \n",
        "\n",
        "<img src= \"img/CH05F04.jpeg\" width =\"400px\"></img>\n",
        "\n",
        "To Solve this problem, we will ask the user to enter three values which get stored in three variables a, b, c respectively. Then we will calculate the average of the variables and s. Finally, we Then will calculate the average of the variables `avg`. Finally, we will print the value stored in the variable `avg`.\n",
        "\n",
        "Let see another example to create a flow chart but this time along with the associated Python code.\n",
        "\n",
        "\n",
        "**Example 2**:\n",
        "\n",
        "To get a user's name as the input and then concatenate this name with \"Hello\" message as `Hello [Name]`.\n",
        "\n",
        "<img src= \"img/CH05F05.jpeg\" height =\"400px\"></img>\n",
        "\n",
        "To create a flow chart for the above problem, we will first fetch the name as the input from the user. This name gets stored inside a variable named `name` for user name. Next, this name is concatenated with the \"Hello\" message and displayed as the output to the user as shown below.\n",
        "> name = input (\"Enter your Name: \") \\\n",
        "> print(\"Hello \" + name)\n",
        "\n",
        "That was all about flow charts. We will now move on to the concept of program control statements, which are the Python constructs used to perform repetitive actions and for making decisions. Python provides control structures to manage the order of execution of a program. which are if-else, for, while and jump statements like break, continue. Before this, we will discuss the types of statements available in Python first."
      ],
      "metadata": {
        "id": "1V4Q_SyMftod"
      }
    },
    {
      "cell_type": "markdown",
      "source": [
        "### 5.3 TYPES OF STATEMENTS IN PYTHON\n",
        "\n",
        "Statements are the instructions written in the source code given to the computer for executing any task. These help the user to obtain the desired output by working and manipulating data. making decisions and repeating the set of instructions. Statements constitute the smallest executable unit within a Python program. Python statements are classified into three types:\n",
        "\n",
        "---\n",
        "- Empty Statement\n",
        "- Simple Statement (Single Statement)\n",
        "- Compound Statement\n",
        "---\n",
        "- **Empty Statement**: It is the simplest statement or, more precisely, we can say it is an empty statement which serves as a placeholder in Python. pass is a special (empty) statement in Python that does nothing. It only works as a dummy statement. Its syntax is:\n",
        "    > pass\n",
        "\n",
        "    It can be used when a statement is required syntactically but the program requires no action to be performed. Since Python does not support empty code blocks, we can use pass statement for the no-operation in the if-condition block, if-else block and even in while loop.\n",
        "- **Simple Statement**: A simple statement in Python comprises a single logical statement. For example, consider the following single statement:\n",
        "    > name=input (\"Enter your Name:\")\n",
        "    > print (name)\n",
        "\n",
        "    Assignment statements are simple statements like:\n",
        "    > x = 10\n",
        "    \n",
        "    which means that we are assigning a value `10`to the variable `x`. This we call a simple statement. The computation statements (expression statements) are also called simple statements. These statements will compute or calculate some expressions and return the results.\n",
        "    For example,\n",
        "    > x = (10 + 15)\n",
        "    \n",
        "    is an expression statement.Thus, a simple statement is described as a single executable statement in Python.\n",
        "- **Compound Statement**: A compound statement is a statement which comprises a group of statements. The compound statements usually execute when a condition is satisfied, or a code block is called directly or through a function call.\n",
        "Compound statements are spread into multiple logical lines or several single statements but aligned together into a single unit. Its syntax is:\n",
        "    ```{python}\n",
        "    condition statement:\n",
        "        statement A\n",
        "        statement B\n",
        "        ...\n",
        "        statement Z\n",
        "    ```\n",
        "Here, header line starts with the keyword and ends at colon `:`. The body consists of more than one simple Python statement or compound statement.\n"
      ],
      "metadata": {
        "id": "6oIs2ty7ftoe"
      }
    },
    {
      "cell_type": "markdown",
      "source": [
        "## 5.4 PROGRAM CONTROL FLOW\n",
        "\n",
        "The control and flow of a program in any programming language can be broadly classified into three categories:\n",
        "\n",
        "1. Sequence\n",
        "2. Selection/Decision\n",
        "3. Iteration/Looping\n",
        "\n",
        "In a Python program, statements can be executed sequentially, selectively or iteratively. we shall discuss these program control flow constructs in brief.\n",
        "\n",
        "1. **Sequential**: Sequential statements in the program are executed in a sequential order or in a linear fashion, one after another, without any jump in the program. In Fig. 5.4, Statement 1. will be executed first, followed by Statement 2 and then by Statement 3. This represents the default flow of statement and is the simplest one.\n",
        "2. **Selection Conditional**: Selection conditional statements in a program are executed when the program uses a condition to decide which set of statements is to be executed between two alternative sets of statements. In conditional statements 'if' statement is used. In Fig. 5.5, 'body of if statement' will be executed if test condition evaluates to true. These are also called Decision Constructs.\n",
        "3. **Iterative/Looping**: Iterative or Looping statements in a program are executed when a certain set of statements needs to be executed multiple times in a loop. In Fig. 5.6, body of loop will be executed until test expression evaluates to true."
      ],
      "metadata": {
        "id": "3eIqVo2zftof"
      }
    },
    {
      "cell_type": "code",
      "execution_count": null,
      "source": [
        "hpay = int(input(\"Hourly Pay : \"))\n",
        "hour = int(input(\"Hours : \"))\n",
        "totalPay = hpay * hour\n",
        "if totalPay > 400:\n",
        "    print(\"afford to live alone...\")\n",
        "else:\n",
        "    print(\"can't afford to live alone...\")"
      ],
      "outputs": [
        {
          "output_type": "stream",
          "name": "stdout",
          "text": [
            "afford to live alone...\n"
          ]
        }
      ],
      "metadata": {
        "id": "8LNwmq7Hftog",
        "outputId": "a0f8d6a6-7636-499c-8631-ef4002707474"
      }
    },
    {
      "cell_type": "markdown",
      "source": [
        "## 5.5 DECISION-MAKING\n",
        "\n",
        "The order of execution of the statements in a program is known as flow of control. It is dependent on the programming constructs used while writing the program. Decision-making statements are used to control the flow of execution of a program depending upon the condition.\n",
        "There are four types of decision-making statements in Python:\n",
        "\n",
        "1. if statement\n",
        "2. if-else statement\n",
        "3. if-elif ladder\n",
        "4. Nested if-else statement\n",
        "\n",
        "### 5.5.1 if Statement\n",
        "\n",
        "if statement is the easiest method for making a decision in Python. It simply states that if spmething is true, Python should perform the steps that follow and does nothing in case the condition evaluates to false. In programming, decision-making or selection can be achieved through the conditional statement. The simplest form is the if statement.\n",
        "\n",
        "- If the condition is true, then the indented statement gets executed.\n",
        "- The indented statement implies that its execution is dependent on the header.\n",
        "- There is no limit on the number of statements that can appear under an if block\n",
        "  -  `if` is a keyword, followed by a condition and ended with ‘colon’.\n",
        "  -   We can use the condition with bracket () also but it is not mandatory.\n",
        "  -   A statementor statements (Block of code) are indented (usually 4 spaces) inside the `if` statement and are executed only if the condition evaluates to true, otherwise\n",
        "the control skips the block of statements inside if statement and only statement? will be executed."
      ],
      "metadata": {
        "id": "kMhp4L6oftoj"
      }
    },
    {
      "cell_type": "code",
      "execution_count": null,
      "source": [
        "# statement 1\n",
        "age = int(input(\"Enter your age: \"))\n",
        "# statement 2 (compound statement)\n",
        "if age >= 18 :\n",
        "    print(\"Voting Age\")\n",
        "# statement 3\n",
        "print(\"out of if\")\n"
      ],
      "outputs": [],
      "metadata": {
        "id": "7qE_LR4Uftps"
      }
    },
    {
      "cell_type": "markdown",
      "source": [
        "### Explanation:\n",
        "1. statement1 asks the user to input age. 2. statement2 Age >= 18 is the test expression.\n",
        "3. The body of if, i.e., statement3 is executed only when if condition evaluates to true.\n",
        "4. When variable 'i' is equal to 10, i.e., the inputted age is less than 18; the test expression becomes false and body of if statement is skipped, i.e., statement3 does not get executed at all. \n",
        "5. statement4 falls outside of the if block (un-indented). Hence, it is executed regardless of the test expression."
      ],
      "metadata": {
        "id": "oEnmW6XYftpt"
      }
    },
    {
      "cell_type": "code",
      "execution_count": null,
      "source": [
        "grade =  input(\"Enter a grade of a person: \")\n",
        "if grade == \"A\":\n",
        "    print(\"Well done! \")"
      ],
      "outputs": [],
      "metadata": {
        "id": "bdAbQIo2ftpt"
      }
    },
    {
      "cell_type": "markdown",
      "source": [
        "Now consider the situation when the user inputs age as 8 years and there is no statement given outside if block (Practical Implementation-1). Similarly, in Practical Implementation-2 as well, if the user enters grade other than 'A', then nothing shall be executed, and the flow control of the program shall terminate on the condition evaluated as false without notifying anything to the user.\n",
        "\n",
        "Here, we need a second type of conditional if statementcalled if else that provides an alternative execution. if..else allows to have two possibilities and the condition determines which branch gets executed.\n",
        "\n",
        "Therefore, we will improvise the above programs for the false situations by introducing the 'else' part in association with the if statement."
      ],
      "metadata": {
        "id": "C09r2r_rftpu"
      }
    },
    {
      "cell_type": "markdown",
      "source": [
        "## 5.5.2 if-else Statement\n",
        "‘if’ statement alone tells us that if a condition is true, it will execute a block of statements and if the condition is false, it won't. But what if we want the program to display some appropriate message or to execute certain set of instructions in case the condition becomes false. Here e a block comes the else statement. We can use the else statement with if statement to execut of code when the condition is false as shown in Fig. 5.7(b).\n",
        "\n",
        "```{python}\n",
        "if condition:\n",
        "    Statement(X)\n",
        "else:\n",
        "    Statement(Y)\n",
        "```\n",
        "Here\n",
        "- 'if and 'else' are keywords. \n",
        "- A statement or statements (Block of code) indented (usually 4 spaces) inside the if statement are executed only if condition evaluates to true, otherwise statements following else will be executed. Let us consider an example that explains if-else construct along with its associated pseudo code and flow chart."
      ],
      "metadata": {
        "id": "R4KuM3hjftpu"
      }
    },
    {
      "cell_type": "markdown",
      "source": [
        "### Example:\n",
        "To develop a program that asks the user to input the number of working hours and earnings per day. It then calculates how much money they earn in a week and display an appropriate message based on their earnings.\n",
        "\n",
        "```{python}\n",
        "hourlypay = int (input (\"How = much do you earn per hour?\"))\n",
        "hoursperweek = int (input (\"How many hours a week do you work?\")) \n",
        "weeklypay= hourlypay * hoursperweek\n",
        "    print (\"You can afford to live alone.\")\n",
        "else:\n",
        "    print (\"You can't afford to live alone.\")\n",
        "```"
      ],
      "metadata": {
        "id": "WUPn4gszftpu"
      }
    },
    {
      "cell_type": "code",
      "execution_count": null,
      "source": [
        "hourlypay = int (input (\"How = much do you earn per hour?\"))\n",
        "hoursperweek = int (input (\"How many hours a week do you work?\"))  \n",
        "weeklypay= hourlypay * hoursperweek\n",
        "if weeklypay > 400: \n",
        "    print (\"You can afford to live alone.\")\n",
        "else:\n",
        "    print (\"You can't afford to live alone.\")"
      ],
      "outputs": [],
      "metadata": {
        "id": "tVd8yBu9ftpv"
      }
    },
    {
      "cell_type": "code",
      "execution_count": null,
      "source": [
        "# statement 1\n",
        "age = int(input(\"Enter your age: \"))\n",
        "# statement 2 (compound statement)\n",
        "if age >= 18 :\n",
        "    print(\"Voting Age\")\n",
        "else:\n",
        "    print (\"Not in Voting Age\")\n",
        "# statement 3\n",
        "print(\"out of if\")"
      ],
      "outputs": [],
      "metadata": {
        "id": "piEhDZINftpv"
      }
    },
    {
      "cell_type": "code",
      "execution_count": null,
      "source": [
        "# Write a code to find whether a given numberis odd or even\n",
        "num = int(input('Enter a number: '))\n",
        "if num % 2 == 0:\n",
        "    print(\"Even Number\")\n",
        "else:\n",
        "    print(\"Odd Number\")"
      ],
      "outputs": [],
      "metadata": {
        "id": "-6y26x2_ftpv"
      }
    },
    {
      "cell_type": "markdown",
      "source": [
        "Many a time, there are situations that require multiple conditions to be checked and hence may lead to many alternatives. In such a case, we can chain the conditions using if...elif."
      ],
      "metadata": {
        "id": "_hDCmGmMftpw"
      }
    },
    {
      "cell_type": "markdown",
      "source": [
        "### 5.5.3 if-elif-else Statement\n",
        "if-elif-else construct is used in the situations where a user can decide among multiple options. As soon as one of the conditions controlling the 'if' is true, then statement/statements associated with that 'if\" are executed, and the rest of the ladder is bypassed. If none of the conditions is true, then the final else statement will be executed, and control flows from top to down.\n",
        "```{python}\n",
        "if condition:\n",
        "    statement (s)\n",
        "elif condition:\n",
        "    statement (s)\n",
        "elif condition:\n",
        "    statement (s) \n",
        "else:\n",
        "    statement (s)\n",
        "```"
      ],
      "metadata": {
        "id": "JlkKSLERftpw"
      }
    },
    {
      "cell_type": "code",
      "execution_count": null,
      "source": [
        "# Illustrating the concept of if-elif-else statement, \n",
        "# accept the percentage of a student and display the grade accordingly.\n",
        "\n",
        "perc= float (input (\"enter percentage of a student : \")) # pePE\n",
        "if perc > 85: # condition 1\n",
        "    print ('A')\n",
        "elif perc > 70 and perc <=85: # condition 2\n",
        "    print (\"B\")\n",
        "elif perc > 60 and perc <=70: # condition 3\n",
        "    print (\"C\")\n",
        "elif perc > 45 and perc <=60: # condition 4\n",
        "    print ('D')\n",
        "else:\n",
        "    print ('E')"
      ],
      "outputs": [
        {
          "output_type": "stream",
          "name": "stdout",
          "text": [
            "B\n"
          ]
        }
      ],
      "metadata": {
        "id": "Mjw1T5lPftpw",
        "outputId": "ca9c69b7-a592-4b5e-a512-1e29341fb0f3"
      }
    },
    {
      "cell_type": "markdown",
      "source": [
        "### Explanation:\n",
        "1. statement accepts the percentage as the input from the user.\n",
        "2. Each condition is checked in order. As per the inputted value of 78 as the percentage, condition1 is false but condition2 is true and, hence, the corresponding code of condition? will be executed and control will not even check other conditions."
      ],
      "metadata": {
        "id": "rE0B1lDiftpw"
      }
    },
    {
      "cell_type": "code",
      "execution_count": null,
      "source": [
        "# Ilustrating the concept of if-elif-else statement, accept\n",
        "# alary as input from the user and calculate the tax Payable.\n",
        "\n",
        "salary = int (input (\"Enter salary of a person : \")) \n",
        "if salary <-50000:\n",
        "    tax = 0.05 * salary\n",
        "elif salary <= 60000: \n",
        "    tax = 0.07 * salary\n",
        "elif salary <= 70000:\n",
        "    tax = 0.08 * salary\n",
        "else:\n",
        "    tax= 0.10 * salary \n",
        "print (\"Salary: \", salary,\" Tax : \", tax)"
      ],
      "outputs": [
        {
          "output_type": "stream",
          "name": "stdout",
          "text": [
            "Salary:  78  Tax :  5.460000000000001\n"
          ]
        }
      ],
      "metadata": {
        "id": "HSrtJ20Lftpx",
        "outputId": "8a8904a4-c8b6-4829-b6d2-35f07137ad64"
      }
    },
    {
      "cell_type": "markdown",
      "source": [
        "### 5.5.4 Nested if-else Statement\n",
        "\n",
        "The nested if-else statement allows you to check for multiple test expressions and execute different codes for more than two conditions. We can have many levels of nesting inside if-else statements.\n",
        "Syntax\n",
        "```{python}\n",
        "if condition: \n",
        "    statement (s) \n",
        "    if condition:\n",
        "        statement (s)\n",
        "    elif condition: \n",
        "        statement (s)\n",
        "    else: \n",
        "        statement(s)\n",
        "elif condition:\n",
        "    statement(s)\n",
        "else: \n",
        "    statement(s)\n",
        "```\n",
        "\n",
        "We can have an `if-elif-else` statement inside another `if-elif-else` statement. This is called **nesting** in computer programming\n",
        "Any number of these statements can be nested inside one another. \n",
        "**Indentation** is the only way to figure out the level of nesting. This can get confusing, so it must be avoided as far as possible."
      ],
      "metadata": {
        "id": "_B9Rtc4aftpx"
      }
    },
    {
      "cell_type": "code",
      "execution_count": null,
      "source": [
        "# Example\n",
        "\n",
        "var = 301\n",
        "\n",
        "if var <200:\n",
        "    print (\"value is less than 200\") \n",
        "    if var == 150:\n",
        "        print (\"Which is 150\") \n",
        "    elif var == 100:\n",
        "        print (\"Which is 100\")\n",
        "    elif var == 50:\n",
        "        print (\"Which is 50\") \n",
        "    elif var < 50:\n",
        "        print (\"value is less than 50\") \n",
        "else:\n",
        "    if var == 300:\n",
        "        print (\"Which is 300\") \n",
        "    else:\n",
        "        print(\"Could not find true countenance\")\n",
        "print (\"Good bye!\")\n"
      ],
      "outputs": [
        {
          "output_type": "stream",
          "name": "stdout",
          "text": [
            "Could not find true countenance\n",
            "Good bye!\n"
          ]
        }
      ],
      "metadata": {
        "id": "nzyVNnyeftpx",
        "outputId": "33ff4fcb-fd2e-4337-db77-60715a5a941f"
      }
    },
    {
      "cell_type": "code",
      "execution_count": null,
      "source": [
        "# Nasted if-elif-else Statement\n",
        "num = float(input(\"Enter a number: \"))\n",
        "if num >= 0:\n",
        "    if num == 0:\n",
        "        print(\"Zero\")\n",
        "    else:\n",
        "        print(\"Positive Number\")\n",
        "else:\n",
        "    print(\"Negative Number\")"
      ],
      "outputs": [],
      "metadata": {
        "id": "c2Q7Y4gvftpy"
      }
    },
    {
      "cell_type": "markdown",
      "source": [
        "Explanation:\n",
        "1. statement asks the user to input a number.\n",
        "2. Check if the number is positive or negative or zero and display an appropriate message."
      ],
      "metadata": {
        "id": "L3ShoJERftpy"
      }
    },
    {
      "cell_type": "markdown",
      "source": [
        "Till now, we have learnt how to make a decision. To take one path or another is an essential\n",
        "element of performing useful work. The programs we have worked upon till now have performed\n",
        "a series of steps just one time and then stopped. However, the real world doesn’t work this way.\n",
        "Many of the tasks that humans perform are repetitious. For example, the doctor might state\n",
        "that you need to exercise more and tell you to do 100 push-ups each day. If you just do one\n",
        "push-up, you won't get much benefit from the exercise and you definitely won't be following\n",
        "the doctor's order. Of course, because you know precisely how many push-ups to do, you can\n",
        "perform the task a specific number of times. Python allows the same sort of repetition using\n",
        "`Iteration/Looping` statements which we will discuss now."
      ],
      "metadata": {
        "id": "WdgKqVxWftpy"
      }
    },
    {
      "cell_type": "code",
      "execution_count": null,
      "source": [
        "import pyperclip\n",
        "pyperclip.copy(\"Hello World\")"
      ],
      "outputs": [],
      "metadata": {
        "id": "Xs5pihMnftpy"
      }
    },
    {
      "cell_type": "code",
      "execution_count": null,
      "source": [
        "Hello World"
      ],
      "outputs": [],
      "metadata": {
        "id": "kbM1U0QPftpy"
      }
    }
  ],
  "metadata": {
    "orig_nbformat": 4,
    "language_info": {
      "name": "python",
      "version": "3.7.4",
      "mimetype": "text/x-python",
      "codemirror_mode": {
        "name": "ipython",
        "version": 3
      },
      "pygments_lexer": "ipython3",
      "nbconvert_exporter": "python",
      "file_extension": ".py"
    },
    "kernelspec": {
      "name": "python3",
      "display_name": "Python 3.7.4 64-bit ('base': conda)"
    },
    "interpreter": {
      "hash": "7dae6437c12b1d87f00e0e10a4bd22be66a3b8ec05fb1161d95372f28c39fa9e"
    },
    "colab": {
      "name": "CH05 Conditional and Looping Constuct.ipynb",
      "provenance": [],
      "include_colab_link": true
    }
  },
  "nbformat": 4,
  "nbformat_minor": 0
}